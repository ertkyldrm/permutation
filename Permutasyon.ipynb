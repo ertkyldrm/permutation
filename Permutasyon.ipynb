{
  "nbformat": 4,
  "nbformat_minor": 0,
  "metadata": {
    "colab": {
      "name": "Permutasyon.ipynb",
      "version": "0.3.2",
      "provenance": [],
      "include_colab_link": true
    },
    "kernelspec": {
      "name": "python3",
      "display_name": "Python 3"
    }
  },
  "cells": [
    {
      "cell_type": "markdown",
      "metadata": {
        "id": "view-in-github",
        "colab_type": "text"
      },
      "source": [
        "<a href=\"https://colab.research.google.com/github/ertkyldrm/permutation/blob/master/Permutasyon.ipynb\" target=\"_parent\"><img src=\"https://colab.research.google.com/assets/colab-badge.svg\" alt=\"Open In Colab\"/></a>"
      ]
    },
    {
      "metadata": {
        "id": "dyoaK24TfsDX",
        "colab_type": "text"
      },
      "cell_type": "markdown",
      "source": [
        "Problem : n kadar kişi x kişilik masaya kaç farlı şekilde oturur ? \n",
        "(Buradaki x ve n kullanıcı tarafından belirlenmektedir. )"
      ]
    },
    {
      "metadata": {
        "id": "OdDdN_-mgl3D",
        "colab_type": "text"
      },
      "cell_type": "markdown",
      "source": [
        "ilk olarak faktöriyel hesaplaması için fonksiyon tanımlıyorum."
      ]
    },
    {
      "metadata": {
        "id": "Cg_qcnKagieb",
        "colab_type": "code",
        "colab": {}
      },
      "cell_type": "code",
      "source": [
        "def FaktoriyelHesapla(i)\n",
        "\n",
        "   if i==1:       \n",
        "    \n",
        "        return 1\n",
        "    \n",
        "    else: \n",
        "      \n",
        "        return i * faktoriyelHesapla(i-1)"
      ],
      "execution_count": 0,
      "outputs": []
    },
    {
      "metadata": {
        "id": "SeUvH2Zig-my",
        "colab_type": "text"
      },
      "cell_type": "markdown",
      "source": [
        "Permütasyon hesaplaması için fonksiyon yazıyorum"
      ]
    },
    {
      "metadata": {
        "id": "kX-uMsneg-Ly",
        "colab_type": "code",
        "colab": {}
      },
      "cell_type": "code",
      "source": [
        "def permutasyonHesapla(j,k):\n",
        "    \n",
        "    l = 0\n",
        "    \n",
        "    if k>j:\n",
        "      \n",
        "        l = l\n",
        "        \n",
        "    else:\n",
        "      \n",
        "        l = faktoriyelHesapla(j)/faktoriyelHesapla(j-k)\n",
        "        \n",
        "        return l"
      ],
      "execution_count": 0,
      "outputs": []
    },
    {
      "metadata": {
        "id": "yqnL9OudhYr5",
        "colab_type": "text"
      },
      "cell_type": "markdown",
      "source": [
        "Kullanıcıdan masanın kaç kişi olduğunu ve kaç kişiyi masaya yerleştirmek istediğinin bilgisini alıyorum ."
      ]
    },
    {
      "metadata": {
        "id": "r45_Xt02hUTY",
        "colab_type": "code",
        "colab": {}
      },
      "cell_type": "code",
      "source": [
        "sayi1 = int(input(\"Kaç kişilik masa : \"))\n",
        " \n",
        "sayi2 = int(input(\"Kişi sayısı \")) \n",
        "\n",
        "if sayi1<sayi2:\n",
        "  \n",
        "  print(\"Hata!!! Kişi sayısı masadaki boş yer sayısından fazla olamaz\")\n",
        "  \n",
        "else:\n",
        "  \n",
        "  print( sayi1,\"kişilik masaya\",sayi2 ,\"kadar kişi\", permutasyonHesapla(sayi1,sayi2),\"farklı şekilde oturur.\" ) "
      ],
      "execution_count": 0,
      "outputs": []
    }
  ]
}